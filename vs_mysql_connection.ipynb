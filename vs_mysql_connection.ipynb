{
 "cells": [
  {
   "cell_type": "markdown",
   "metadata": {},
   "source": [
    "# VS code and MySQL Connection\n",
    "\n",
    "To begin with;\n",
    "\n",
    "Let us import the required modules.\n",
    "\n",
    "Define the variables you need to use and create a connection as shown in the code below."
   ]
  },
  {
   "cell_type": "code",
   "execution_count": 11,
   "metadata": {},
   "outputs": [
    {
     "name": "stdout",
     "output_type": "stream",
     "text": [
      "Connection to the database has been successfully established. \n"
     ]
    }
   ],
   "source": [
    "# required modules\n",
    "\n",
    "import mysql.connector\n",
    "from mysql.connector import Error\n",
    "\n",
    "# parameters\n",
    "host = \"localhost\"\n",
    "user = \"root\"\n",
    "password = \"1234\"\n",
    "database = \"moviesbasic\"\n",
    "\n",
    "try:\n",
    "    connection = mysql.connector.connect(host=host, user=user, password=password, database=database)\n",
    "    if connection.is_connected():\n",
    "        print(\"Connection to the database has been successfully established. \")\n",
    "except Error as e:\n",
    "    print(f\"Error: {e}\")"
   ]
  },
  {
   "cell_type": "markdown",
   "metadata": {},
   "source": [
    "# Show tables in our database"
   ]
  },
  {
   "cell_type": "code",
   "execution_count": 12,
   "metadata": {},
   "outputs": [
    {
     "name": "stdout",
     "output_type": "stream",
     "text": [
      "The tables in our database are: \n",
      " [('movies_basic',)]\n"
     ]
    }
   ],
   "source": [
    "cursor = connection.cursor()\n",
    "query1 = \"SHOW TABLES;\"\n",
    "cursor.execute(query1)\n",
    "tables = cursor.fetchall()\n",
    "print(f\"The tables in our database are: \\n {tables}\")\n"
   ]
  },
  {
   "cell_type": "markdown",
   "metadata": {},
   "source": [
    "# Access the table in the databse and save it as a Data Frame "
   ]
  },
  {
   "cell_type": "code",
   "execution_count": 15,
   "metadata": {},
   "outputs": [
    {
     "data": {
      "text/html": [
       "<div>\n",
       "<style scoped>\n",
       "    .dataframe tbody tr th:only-of-type {\n",
       "        vertical-align: middle;\n",
       "    }\n",
       "\n",
       "    .dataframe tbody tr th {\n",
       "        vertical-align: top;\n",
       "    }\n",
       "\n",
       "    .dataframe thead th {\n",
       "        text-align: right;\n",
       "    }\n",
       "</style>\n",
       "<table border=\"1\" class=\"dataframe\">\n",
       "  <thead>\n",
       "    <tr style=\"text-align: right;\">\n",
       "      <th></th>\n",
       "      <th>idmovies_basic</th>\n",
       "      <th>title</th>\n",
       "      <th>genre</th>\n",
       "      <th>year</th>\n",
       "      <th>director</th>\n",
       "      <th>rating</th>\n",
       "      <th>numrating</th>\n",
       "    </tr>\n",
       "  </thead>\n",
       "  <tbody>\n",
       "    <tr>\n",
       "      <th>0</th>\n",
       "      <td>1</td>\n",
       "      <td>Vertigo</td>\n",
       "      <td>Mystery</td>\n",
       "      <td>1958</td>\n",
       "      <td>Alfred Hitchcock</td>\n",
       "      <td>8</td>\n",
       "      <td>263575</td>\n",
       "    </tr>\n",
       "    <tr>\n",
       "      <th>1</th>\n",
       "      <td>2</td>\n",
       "      <td>The Innocents</td>\n",
       "      <td>Horror</td>\n",
       "      <td>1961</td>\n",
       "      <td>Jack Clayton</td>\n",
       "      <td>8</td>\n",
       "      <td>20207</td>\n",
       "    </tr>\n",
       "    <tr>\n",
       "      <th>2</th>\n",
       "      <td>3</td>\n",
       "      <td>Lawrence of Arabia</td>\n",
       "      <td>Adventure</td>\n",
       "      <td>1962</td>\n",
       "      <td>David Lean</td>\n",
       "      <td>8</td>\n",
       "      <td>202778</td>\n",
       "    </tr>\n",
       "    <tr>\n",
       "      <th>3</th>\n",
       "      <td>4</td>\n",
       "      <td>The Deer Hunter</td>\n",
       "      <td>Drama</td>\n",
       "      <td>1978</td>\n",
       "      <td>Michael Cimino</td>\n",
       "      <td>9</td>\n",
       "      <td>905335</td>\n",
       "    </tr>\n",
       "    <tr>\n",
       "      <th>4</th>\n",
       "      <td>5</td>\n",
       "      <td>Amadeus</td>\n",
       "      <td>Drama</td>\n",
       "      <td>1984</td>\n",
       "      <td>Milos Forman</td>\n",
       "      <td>9</td>\n",
       "      <td>558043</td>\n",
       "    </tr>\n",
       "  </tbody>\n",
       "</table>\n",
       "</div>"
      ],
      "text/plain": [
       "   idmovies_basic               title      genre  year          director  \\\n",
       "0               1             Vertigo    Mystery  1958  Alfred Hitchcock   \n",
       "1               2       The Innocents     Horror  1961      Jack Clayton   \n",
       "2               3  Lawrence of Arabia  Adventure  1962        David Lean   \n",
       "3               4     The Deer Hunter      Drama  1978    Michael Cimino   \n",
       "4               5             Amadeus      Drama  1984      Milos Forman   \n",
       "\n",
       "   rating  numrating  \n",
       "0       8     263575  \n",
       "1       8      20207  \n",
       "2       8     202778  \n",
       "3       9     905335  \n",
       "4       9     558043  "
      ]
     },
     "execution_count": 15,
     "metadata": {},
     "output_type": "execute_result"
    }
   ],
   "source": [
    "# import pandas so that we can use pd.read_sql\n",
    "import pandas as pd\n",
    "import warnings\n",
    "warnings.filterwarnings('ignore')\n",
    "\n",
    "query2 = \"SELECT * FROM movies_basic;\"\n",
    "movies_df = pd.read_sql(query2, connection)\n",
    "movies_df.head()"
   ]
  },
  {
   "cell_type": "code",
   "execution_count": 16,
   "metadata": {},
   "outputs": [
    {
     "data": {
      "text/html": [
       "<div>\n",
       "<style scoped>\n",
       "    .dataframe tbody tr th:only-of-type {\n",
       "        vertical-align: middle;\n",
       "    }\n",
       "\n",
       "    .dataframe tbody tr th {\n",
       "        vertical-align: top;\n",
       "    }\n",
       "\n",
       "    .dataframe thead th {\n",
       "        text-align: right;\n",
       "    }\n",
       "</style>\n",
       "<table border=\"1\" class=\"dataframe\">\n",
       "  <thead>\n",
       "    <tr style=\"text-align: right;\">\n",
       "      <th></th>\n",
       "      <th>idmovies_basic</th>\n",
       "      <th>title</th>\n",
       "      <th>genre</th>\n",
       "      <th>year</th>\n",
       "      <th>director</th>\n",
       "      <th>rating</th>\n",
       "      <th>numrating</th>\n",
       "    </tr>\n",
       "  </thead>\n",
       "  <tbody>\n",
       "    <tr>\n",
       "      <th>30</th>\n",
       "      <td>31</td>\n",
       "      <td>K-19: The Widowmaker</td>\n",
       "      <td>Thriller</td>\n",
       "      <td>2002</td>\n",
       "      <td>Kathryn Bigelow</td>\n",
       "      <td>6</td>\n",
       "      <td>530495</td>\n",
       "    </tr>\n",
       "    <tr>\n",
       "      <th>31</th>\n",
       "      <td>32</td>\n",
       "      <td>Wayne's World</td>\n",
       "      <td>Comedy</td>\n",
       "      <td>1992</td>\n",
       "      <td>Penelope Spheeris</td>\n",
       "      <td>7</td>\n",
       "      <td>203551</td>\n",
       "    </tr>\n",
       "    <tr>\n",
       "      <th>32</th>\n",
       "      <td>33</td>\n",
       "      <td>The Hurt Locker</td>\n",
       "      <td>Thriller</td>\n",
       "      <td>2008</td>\n",
       "      <td>Kathryn Bigelow</td>\n",
       "      <td>8</td>\n",
       "      <td>508932</td>\n",
       "    </tr>\n",
       "    <tr>\n",
       "      <th>33</th>\n",
       "      <td>34</td>\n",
       "      <td>The Matrix</td>\n",
       "      <td>Thriller</td>\n",
       "      <td>1999</td>\n",
       "      <td>Lana Wachowski</td>\n",
       "      <td>9</td>\n",
       "      <td>940593</td>\n",
       "    </tr>\n",
       "    <tr>\n",
       "      <th>34</th>\n",
       "      <td>35</td>\n",
       "      <td>Selma</td>\n",
       "      <td>Drama</td>\n",
       "      <td>2014</td>\n",
       "      <td>Ava DuVernay</td>\n",
       "      <td>10</td>\n",
       "      <td>853049</td>\n",
       "    </tr>\n",
       "  </tbody>\n",
       "</table>\n",
       "</div>"
      ],
      "text/plain": [
       "    idmovies_basic                 title     genre  year           director  \\\n",
       "30              31  K-19: The Widowmaker  Thriller  2002    Kathryn Bigelow   \n",
       "31              32         Wayne's World    Comedy  1992  Penelope Spheeris   \n",
       "32              33       The Hurt Locker  Thriller  2008    Kathryn Bigelow   \n",
       "33              34            The Matrix  Thriller  1999     Lana Wachowski   \n",
       "34              35                 Selma     Drama  2014       Ava DuVernay   \n",
       "\n",
       "    rating  numrating  \n",
       "30       6     530495  \n",
       "31       7     203551  \n",
       "32       8     508932  \n",
       "33       9     940593  \n",
       "34      10     853049  "
      ]
     },
     "execution_count": 16,
     "metadata": {},
     "output_type": "execute_result"
    }
   ],
   "source": [
    "movies_df.tail()"
   ]
  },
  {
   "cell_type": "markdown",
   "metadata": {},
   "source": [
    "## Continue with Data understanding, processing, exploration, visualization and analysis"
   ]
  },
  {
   "cell_type": "code",
   "execution_count": 18,
   "metadata": {},
   "outputs": [
    {
     "name": "stdout",
     "output_type": "stream",
     "text": [
      "<class 'pandas.core.frame.DataFrame'>\n",
      "RangeIndex: 35 entries, 0 to 34\n",
      "Data columns (total 7 columns):\n",
      " #   Column          Non-Null Count  Dtype \n",
      "---  ------          --------------  ----- \n",
      " 0   idmovies_basic  35 non-null     int64 \n",
      " 1   title           35 non-null     object\n",
      " 2   genre           35 non-null     object\n",
      " 3   year            35 non-null     int64 \n",
      " 4   director        35 non-null     object\n",
      " 5   rating          35 non-null     int64 \n",
      " 6   numrating       35 non-null     int64 \n",
      "dtypes: int64(4), object(3)\n",
      "memory usage: 2.0+ KB\n"
     ]
    }
   ],
   "source": [
    "movies_df.info()"
   ]
  },
  {
   "cell_type": "code",
   "execution_count": 28,
   "metadata": {},
   "outputs": [
    {
     "data": {
      "text/html": [
       "<div>\n",
       "<style scoped>\n",
       "    .dataframe tbody tr th:only-of-type {\n",
       "        vertical-align: middle;\n",
       "    }\n",
       "\n",
       "    .dataframe tbody tr th {\n",
       "        vertical-align: top;\n",
       "    }\n",
       "\n",
       "    .dataframe thead th {\n",
       "        text-align: right;\n",
       "    }\n",
       "</style>\n",
       "<table border=\"1\" class=\"dataframe\">\n",
       "  <thead>\n",
       "    <tr style=\"text-align: right;\">\n",
       "      <th></th>\n",
       "      <th>rating</th>\n",
       "      <th>numrating</th>\n",
       "    </tr>\n",
       "  </thead>\n",
       "  <tbody>\n",
       "    <tr>\n",
       "      <th>count</th>\n",
       "      <td>35.000000</td>\n",
       "      <td>35.000000</td>\n",
       "    </tr>\n",
       "    <tr>\n",
       "      <th>mean</th>\n",
       "      <td>7.857143</td>\n",
       "      <td>510527.285714</td>\n",
       "    </tr>\n",
       "    <tr>\n",
       "      <th>std</th>\n",
       "      <td>1.458098</td>\n",
       "      <td>306152.966522</td>\n",
       "    </tr>\n",
       "    <tr>\n",
       "      <th>min</th>\n",
       "      <td>3.000000</td>\n",
       "      <td>13091.000000</td>\n",
       "    </tr>\n",
       "    <tr>\n",
       "      <th>25%</th>\n",
       "      <td>7.000000</td>\n",
       "      <td>215555.000000</td>\n",
       "    </tr>\n",
       "    <tr>\n",
       "      <th>50%</th>\n",
       "      <td>8.000000</td>\n",
       "      <td>558043.000000</td>\n",
       "    </tr>\n",
       "    <tr>\n",
       "      <th>75%</th>\n",
       "      <td>9.000000</td>\n",
       "      <td>755207.000000</td>\n",
       "    </tr>\n",
       "    <tr>\n",
       "      <th>max</th>\n",
       "      <td>10.000000</td>\n",
       "      <td>999486.000000</td>\n",
       "    </tr>\n",
       "  </tbody>\n",
       "</table>\n",
       "</div>"
      ],
      "text/plain": [
       "          rating      numrating\n",
       "count  35.000000      35.000000\n",
       "mean    7.857143  510527.285714\n",
       "std     1.458098  306152.966522\n",
       "min     3.000000   13091.000000\n",
       "25%     7.000000  215555.000000\n",
       "50%     8.000000  558043.000000\n",
       "75%     9.000000  755207.000000\n",
       "max    10.000000  999486.000000"
      ]
     },
     "execution_count": 28,
     "metadata": {},
     "output_type": "execute_result"
    }
   ],
   "source": [
    "movies_df[['rating','numrating']].describe()"
   ]
  },
  {
   "cell_type": "code",
   "execution_count": 29,
   "metadata": {},
   "outputs": [
    {
     "data": {
      "image/png": "[encoded data removed]",
      "text/plain": [
       "<Figure size 800x300 with 1 Axes>"
      ]
     },
     "metadata": {},
     "output_type": "display_data"
    }
   ],
   "source": [
    "movies_df['genre'].value_counts().plot(kind='bar', title='Movies representation by different genres', figsize=(8,3));"
   ]
  }
 ],
 "metadata": {
  "kernelspec": {
   "display_name": "Python 3",
   "language": "python",
   "name": "python3"
  },
  "language_info": {
   "codemirror_mode": {
    "name": "ipython",
    "version": 3
   },
   "file_extension": ".py",
   "mimetype": "text/x-python",
   "name": "python",
   "nbconvert_exporter": "python",
   "pygments_lexer": "ipython3",
   "version": "3.12.4"
  }
 },
 "nbformat": 4,
 "nbformat_minor": 2
}
